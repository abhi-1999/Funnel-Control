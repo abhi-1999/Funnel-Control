{
 "cells": [
  {
   "cell_type": "code",
   "execution_count": null,
   "id": "a3b89ca8",
   "metadata": {},
   "outputs": [],
   "source": [
    "from stable_baselines3 import HerReplayBuffer, PPO, SAC\n",
    "from stable_baselines3.her.goal_selection_strategy import GoalSelectionStrategy\n",
    "from stable_baselines3.common.evaluation import evaluate_policy\n",
    "import gymnasium as gym\n",
    "import numpy as np\n",
    "import time\n",
    "import matplotlib.pyplot as plt\n",
    "from gymnasium.envs.registration import register\n",
    "\n",
    " \n",
    "\n",
    "Use_torch = int(input(\"want to use torch (0-no , 1-yes): \"))\n",
    "algorithm_name = input(\"algorithm name: \")\n",
    "EpiLen = input(\"Episode Length: \")\n",
    "\n",
    " \n",
    "\n",
    "if Use_torch == 0:\n",
    "    register(\n",
    "        # unique identifier for the env `name-version`\n",
    "        id=\"RobotEnv-v0\",\n",
    "        # path to the class for creating the env\n",
    "        # Note: entry_point also accept a class as input (and not only a string)\n",
    "        entry_point=\"Robot_env:RobotEnv\",\n",
    "        kwargs={'epi_len': int(EpiLen)},\n",
    "    )\n",
    "else:\n",
    "    register(\n",
    "        # unique identifier for the env `name-version`\n",
    "        id=\"RobotEnv-v0\",\n",
    "        # path to the class for creating the env\n",
    "        # Note: entry_point also accept a class as input (and not only a string)\n",
    "        entry_point=\"Robot_env_torch:RobotEnv\",\n",
    "        kwargs={'epi_len': int(EpiLen)},\n",
    "    )\n",
    "env = gym.make(\"RobotEnv-v0\", env_kwargs={\"epi_len\": EpiLen})\n",
    "# model_folder_name = \"./model/\"+\"model_\"+algorithm_name+\"_\"+EpiLen+\"EpiLen\"\n",
    "model_path = \"./models/\"+algorithm_name+\"/model_\"+algorithm_name+\"_\"+EpiLen+\"EpiLen\"\n",
    "if algorithm_name==\"PPO\":\n",
    "    model = PPO.load(model_path, env=env)\n",
    "elif algorithm_name==\"SAC\":\n",
    "    model = SAC.load(model_path, env=env)\n",
    "\n",
    " \n",
    "\n",
    "x_min,x_max,y_min,y_max = [],[],[],[]\n",
    "x_state,y_state,theta_state,rew = [],[],[],[]\n",
    "for _ in range(1):\n",
    "    obs, info = env.reset()\n",
    "    for i in range(int(EpiLen)):\n",
    "        action, _ = model.predict(obs, deterministic=True)\n",
    "        action = np.clip(action,env.action_space.low, env.action_space.high)\n",
    "        obs, reward, terminated, truncated, info = env.step(action)\n",
    "        x_state.append(obs[0])\n",
    "        y_state.append(obs[1])\n",
    "        theta_state.append(obs[2])\n",
    "        rew.append(reward)\n",
    "        x_min.append(info['x_min'])\n",
    "        x_max.append(info['x_max'])\n",
    "        y_min.append(info['y_min'])\n",
    "        y_max.append(info['y_max'])\n",
    "\n",
    "        if terminated or truncated:\n",
    "            obs, info = env.reset()\n",
    "    env.render()\n",
    "env.close()"
   ]
  },
  {
   "cell_type": "code",
   "execution_count": null,
   "id": "8c0497fd",
   "metadata": {},
   "outputs": [],
   "source": [
    "#plots of state x,y\n",
    "\n",
    "time = np.linspace(0,40,int(EpiLen))\n",
    "plt.plot(time,x_min,time,x_max,time,x_state)\n",
    "plt.xlabel(\"Time\",fontsize=15)\n",
    "plt.ylabel('x - state',fontsize=15)\n",
    "plt.legend(['x_lb','x_ub','x_act'])\n",
    "plt.grid()\n",
    "plt.figure()\n",
    "plt.plot(time,y_min,time,y_max,time,y_state)\n",
    "plt.legend(['y_lb','y_ub','y_act'])\n",
    "plt.grid()\n",
    "plt.xlabel(\"Time\",fontsize=15)\n",
    "plt.ylabel('y - state',fontsize=15)"
   ]
  },
  {
   "cell_type": "code",
   "execution_count": null,
   "id": "bf58be22",
   "metadata": {},
   "outputs": [],
   "source": [
    "import math\n",
    "time = np.linspace(-10,10,int(EpiLen))\n",
    "time_int = 0.01\n",
    "xd=[[-1.5+5.8*math.cos(0.24*time_int*t+1.5), 3*math.sin(0.24*t*time_int+1.5)] for t in range(int(EpiLen))]\n",
    "state_d = np.array(xd)\n",
    "time = np.linspace(-10,10,int(EpiLen))\n",
    "x_lb_hard = [-6.58 for i in range(int(EpiLen))]\n",
    "x_ub_hard = [6.58 for i in range(int(EpiLen))]\n",
    "lb_hard_y = [-4.63 for i in range(int(EpiLen))]\n",
    "ub_hard_y = [4.63 for i in range(int(EpiLen))]\n",
    "plt.plot(state_d[:,0],state_d[:,1],x_lb_hard,time,x_ub_hard,time,time,lb_hard_y,time,ub_hard_y,x_state,y_state)"
   ]
  },
  {
   "cell_type": "code",
   "execution_count": 4,
   "id": "75491be5-d7fa-46d0-baa7-0cbebd94ba39",
   "metadata": {},
   "outputs": [
    {
     "data": {
      "text/plain": [
       "[<matplotlib.lines.Line2D at 0x7fb5aacdae60>,\n",
       " <matplotlib.lines.Line2D at 0x7fb5aacd9db0>,\n",
       " <matplotlib.lines.Line2D at 0x7fb5aacd9e40>,\n",
       " <matplotlib.lines.Line2D at 0x7fb5aacdae90>,\n",
       " <matplotlib.lines.Line2D at 0x7fb5aacdb040>]"
      ]
     },
     "execution_count": 4,
     "metadata": {},
     "output_type": "execute_result"
    },
    {
     "data": {
      "image/png": "[encoded data removed]",
      "text/plain": [
       "<Figure size 640x480 with 1 Axes>"
      ]
     },
     "metadata": {},
     "output_type": "display_data"
    }
   ],
   "source": [
    "import math\n",
    "import numpy as np\n",
    "import matplotlib.pyplot as plt\n",
    "EpiLen = 40\n",
    "time = np.linspace(-10,10,EpiLen)\n",
    "time_int = 0.01\n",
    "xd=[[-1.5+5.8*math.cos(0.24*time_int*t+1.5), 3*math.sin(0.24*t*time_int+1.5)] for t in range(EpiLen)]\n",
    "state_d = np.array(xd)\n",
    "time = np.linspace(-10,10,EpiLen)\n",
    "x_lb_hard = [-6.58 for i in range(EpiLen)]\n",
    "x_ub_hard = [6.58 for i in range(EpiLen)]\n",
    "lb_hard_y = [-4.63 for i in range(EpiLen)]\n",
    "ub_hard_y = [4.63 for i in range(EpiLen)]\n",
    "plt.plot(state_d[:,0],state_d[:,1],x_lb_hard,time,x_ub_hard,time,time,lb_hard_y,time,ub_hard_y)"
   ]
  },
  {
   "cell_type": "code",
   "execution_count": null,
   "id": "7e8de4f4-9c98-4d97-b237-ec5d518dc234",
   "metadata": {},
   "outputs": [],
   "source": []
  }
 ],
 "metadata": {
  "kernelspec": {
   "display_name": "Python 3 (ipykernel)",
   "language": "python",
   "name": "python3"
  },
  "language_info": {
   "codemirror_mode": {
    "name": "ipython",
    "version": 3
   },
   "file_extension": ".py",
   "mimetype": "text/x-python",
   "name": "python",
   "nbconvert_exporter": "python",
   "pygments_lexer": "ipython3",
   "version": "3.10.12"
  }
 },
 "nbformat": 4,
 "nbformat_minor": 5
}
