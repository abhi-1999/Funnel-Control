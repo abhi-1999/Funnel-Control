{
 "cells": [
  {
   "cell_type": "code",
   "execution_count": 1,
   "id": "a3b89ca8",
   "metadata": {},
   "outputs": [
    {
     "name": "stderr",
     "output_type": "stream",
     "text": [
      "2023-10-10 14:47:52.494652: I tensorflow/core/util/port.cc:111] oneDNN custom operations are on. You may see slightly different numerical results due to floating-point round-off errors from different computation orders. To turn them off, set the environment variable `TF_ENABLE_ONEDNN_OPTS=0`.\n",
      "2023-10-10 14:47:52.535966: E tensorflow/compiler/xla/stream_executor/cuda/cuda_dnn.cc:9342] Unable to register cuDNN factory: Attempting to register factory for plugin cuDNN when one has already been registered\n",
      "2023-10-10 14:47:52.535994: E tensorflow/compiler/xla/stream_executor/cuda/cuda_fft.cc:609] Unable to register cuFFT factory: Attempting to register factory for plugin cuFFT when one has already been registered\n",
      "2023-10-10 14:47:52.536016: E tensorflow/compiler/xla/stream_executor/cuda/cuda_blas.cc:1518] Unable to register cuBLAS factory: Attempting to register factory for plugin cuBLAS when one has already been registered\n",
      "2023-10-10 14:47:52.547931: I tensorflow/core/platform/cpu_feature_guard.cc:182] This TensorFlow binary is optimized to use available CPU instructions in performance-critical operations.\n",
      "To enable the following instructions: AVX2 AVX512F AVX512_VNNI FMA, in other operations, rebuild TensorFlow with the appropriate compiler flags.\n",
      "2023-10-10 14:47:53.255511: W tensorflow/compiler/tf2tensorrt/utils/py_utils.cc:38] TF-TRT Warning: Could not find TensorRT\n"
     ]
    },
    {
     "name": "stdin",
     "output_type": "stream",
     "text": [
      "want to use torch (0-no , 1-yes):  0\n",
      "algorithm name:  SAC\n",
      "Episode Length:  20\n"
     ]
    },
    {
     "name": "stderr",
     "output_type": "stream",
     "text": [
      "/home/abhijeet/.local/lib/python3.10/site-packages/gymnasium/envs/registration.py:788: UserWarning: \u001b[33mWARN: The environment is being initialised with render_mode='rgb_array' that is not in the possible render_modes ([]).\u001b[0m\n",
      "  logger.warn(\n"
     ]
    },
    {
     "ename": "ValueError",
     "evalue": "not enough values to unpack (expected 2, got 1)",
     "output_type": "error",
     "traceback": [
      "\u001b[0;31m---------------------------------------------------------------------------\u001b[0m",
      "\u001b[0;31mValueError\u001b[0m                                Traceback (most recent call last)",
      "Cell \u001b[0;32mIn[1], line 45\u001b[0m\n\u001b[1;32m     43\u001b[0m x_state,y_state,theta_state,rew \u001b[38;5;241m=\u001b[39m [],[],[],[]\n\u001b[1;32m     44\u001b[0m \u001b[38;5;28;01mfor\u001b[39;00m _ \u001b[38;5;129;01min\u001b[39;00m \u001b[38;5;28mrange\u001b[39m(\u001b[38;5;241m1\u001b[39m):\n\u001b[0;32m---> 45\u001b[0m     obs, info \u001b[38;5;241m=\u001b[39m env\u001b[38;5;241m.\u001b[39mreset()\n\u001b[1;32m     46\u001b[0m     \u001b[38;5;28;01mfor\u001b[39;00m i \u001b[38;5;129;01min\u001b[39;00m \u001b[38;5;28mrange\u001b[39m(\u001b[38;5;28mint\u001b[39m(EpiLen)):\n\u001b[1;32m     47\u001b[0m         action, _ \u001b[38;5;241m=\u001b[39m model\u001b[38;5;241m.\u001b[39mpredict(obs, deterministic\u001b[38;5;241m=\u001b[39m\u001b[38;5;28;01mTrue\u001b[39;00m)\n",
      "\u001b[0;31mValueError\u001b[0m: not enough values to unpack (expected 2, got 1)"
     ]
    }
   ],
   "source": [
    "from stable_baselines3 import HerReplayBuffer, PPO, SAC\n",
    "from stable_baselines3.her.goal_selection_strategy import GoalSelectionStrategy\n",
    "from stable_baselines3.common.evaluation import evaluate_policy\n",
    "from stable_baselines3.common.env_util import make_vec_env\n",
    "import gymnasium as gym\n",
    "import numpy as np\n",
    "import time\n",
    "import matplotlib.pyplot as plt\n",
    "from gymnasium.envs.registration import register\n",
    "\n",
    "Use_torch = int(input(\"want to use torch (0-no , 1-yes): \"))\n",
    "if Use_torch == 0:\n",
    "    register(\n",
    "        # unique identifier for the env `name-version`\n",
    "        id=\"RobotEnv-v0\",\n",
    "        # path to the class for creating the env\n",
    "        # Note: entry_point also accept a class as input (and not only a string)\n",
    "        entry_point=\"Robot_env:RobotEnv\",\n",
    "    )\n",
    "else:\n",
    "    register(\n",
    "        # unique identifier for the env `name-version`\n",
    "        id=\"RobotEnv-v0\",\n",
    "        # path to the class for creating the env\n",
    "        # Note: entry_point also accept a class as input (and not only a string)\n",
    "        entry_point=\"Robot_env_torch:RobotEnv\",\n",
    "    )\n",
    "\n",
    "\n",
    "\n",
    "algorithm_name = input(\"algorithm name: \")\n",
    "EpiLen = input(\"Episode Length: \")\n",
    "\n",
    "env = make_vec_env(\"RobotEnv-v0\", n_envs=1, seed=0, env_kwargs={\"epi_len\": int(EpiLen)})\n",
    "# model_folder_name = \"./model/\"+\"model_\"+algorithm_name+\"_\"+EpiLen+\"EpiLen\"\n",
    "model_path = \"./models/\"+algorithm_name+\"/model_\"+algorithm_name+\"_\"+EpiLen+\"EpiLen\"\n",
    "if algorithm_name==\"PPO\":\n",
    "    model = PPO.load(model_path, env=env)\n",
    "elif algorithm_name==\"SAC\":\n",
    "    model = SAC.load(model_path, env=env)\n",
    "\n",
    "x_min,x_max,y_min,y_max = [],[],[],[]\n",
    "x_state,y_state,theta_state,rew = [],[],[],[]\n",
    "for _ in range(1):\n",
    "    obs, info = env.reset()\n",
    "    for i in range(int(EpiLen)):\n",
    "        action, _ = model.predict(obs, deterministic=True)\n",
    "        obs, reward, terminated, truncated, info = env.step(action)\n",
    "        x_state.append(obs[0])\n",
    "        y_state.append(obs[1])\n",
    "        theta_state.append(obs[2])\n",
    "        rew.append(reward)\n",
    "        x_min.append(info['x_min'])\n",
    "        x_max.append(info['x_max'])\n",
    "        y_min.append(info['y_min'])\n",
    "        y_max.append(info['y_max'])\n",
    "        \n",
    "        if terminated or truncated:\n",
    "            obs, info = env.reset()\n",
    "    env.render()\n",
    "env.close()\n"
   ]
  },
  {
   "cell_type": "code",
   "execution_count": null,
   "id": "8c0497fd",
   "metadata": {},
   "outputs": [],
   "source": [
    "#plots of state x,y\n",
    "\n",
    "time = np.linspace(0,10,int(EpiLen))\n",
    "plt.plot(time,x_min,time,x_max,time,x_state)\n",
    "plt.xlabel(\"Time\",fontsize=15)\n",
    "plt.ylabel('x - state',fontsize=15)\n",
    "plt.legend(['x_lb','x_ub','x_act'])\n",
    "plt.grid()\n",
    "plt.figure()\n",
    "plt.plot(time,y_min,time,y_max,time,y_state)\n",
    "plt.legend(['y_lb','y_ub','y_act'])\n",
    "plt.grid()\n",
    "plt.xlabel(\"Time\",fontsize=15)\n",
    "plt.ylabel('y - state',fontsize=15)"
   ]
  },
  {
   "cell_type": "code",
   "execution_count": null,
   "id": "bf58be22",
   "metadata": {},
   "outputs": [],
   "source": [
    "import math\n",
    "time = np.linspace(-10,10,int(EpiLen))\n",
    "time_int = 0.01\n",
    "xd=[[-1.5+5.8*math.cos(0.24*time_int*t+1.5), 5.8*math.sin(0.24*t*time_int+1.5)] for t in range(int(EpiLen))]\n",
    "state_d = np.array(xd)\n",
    "time = np.linspace(-10,10,int(EpiLen))\n",
    "x_lb_hard = [-6.58 for i in range(int(EpiLen))]\n",
    "x_ub_hard = [6.58 for i in range(int(EpiLen))]\n",
    "lb_hard_y = [-4.63 for i in range(int(EpiLen))]\n",
    "ub_hard_y = [4.63 for i in range(int(EpiLen))]\n",
    "plt.plot(state_d[:,0],state_d[:,1],x_lb_hard,time,x_ub_hard,time,time,lb_hard_y,time,ub_hard_y,x_state,y_state)"
   ]
  },
  {
   "cell_type": "code",
   "execution_count": null,
   "id": "8b06c243",
   "metadata": {},
   "outputs": [],
   "source": []
  }
 ],
 "metadata": {
  "kernelspec": {
   "display_name": "Python 3 (ipykernel)",
   "language": "python",
   "name": "python3"
  },
  "language_info": {
   "codemirror_mode": {
    "name": "ipython",
    "version": 3
   },
   "file_extension": ".py",
   "mimetype": "text/x-python",
   "name": "python",
   "nbconvert_exporter": "python",
   "pygments_lexer": "ipython3",
   "version": "3.11.1"
  }
 },
 "nbformat": 4,
 "nbformat_minor": 5
}
