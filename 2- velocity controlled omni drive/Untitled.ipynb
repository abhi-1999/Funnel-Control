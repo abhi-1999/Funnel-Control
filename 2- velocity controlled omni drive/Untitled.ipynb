{
 "cells": [
  {
   "cell_type": "code",
   "execution_count": 11,
   "id": "3f8aaa81-1c27-4071-9382-f27d295662d0",
   "metadata": {},
   "outputs": [],
   "source": [
    "import numpy as np\n",
    "import math\n",
    "x = -3.19\n",
    "y = 3\n",
    "theta = 0\n",
    "state = np.array([x,y,theta])\n",
    "epi_len = 10\n",
    "\n",
    "ep_t = 0\n",
    "time_int = 0.01\n",
    "\n",
    "ref_trajectory=[[-1.5+5.8*math.cos(0.24*time_int*t+1.5), 5.8*math.sin(0.24*t*time_int+1.5)] for t in range(epi_len)]\n",
    "state_d = np.array(ref_trajectory)\n",
    "\n",
    "l = np.array([0.7,0.7])\n",
    "ini_width = 0.2\n",
    "rho_f = np.array([0.2,0.2])\n",
    "rho_0 = np.array(abs(np.array([x,y])- state_d[0,:]) + ini_width)\n",
    "gamma_np = np.array([(rho_0 - rho_f)*np.exp(-l*time_int*t) + rho_f for t in range(epi_len)])\n",
    "gamma = tf.convert_to_tensor(gamma_np, dtype=tf.float32, name='gamma')\n"
   ]
  },
  {
   "cell_type": "code",
   "execution_count": 12,
   "id": "75f67ea3-7050-4d8e-bb1b-84f8e8563126",
   "metadata": {},
   "outputs": [],
   "source": [
    "lb_soft = state_d - gamma\n",
    "ub_soft = state_d + gamma\n",
    "phi_ini_L = tf.constant([0.0, 0.0], dtype=tf.float32, name='phi_ini_L')\n",
    "phi_ini_U = tf.constant([0.0, 0.0], dtype=tf.float32, name='phi_ini_U')"
   ]
  },
  {
   "cell_type": "code",
   "execution_count": 9,
   "id": "457ca99a-0f2a-44d2-bc15-54f9abfc866f",
   "metadata": {},
   "outputs": [
    {
     "name": "stdout",
     "output_type": "stream",
     "text": [
      "(2,)\n",
      "(2,)\n",
      "(2,)\n",
      "(10, 2)\n"
     ]
    }
   ],
   "source": [
    "print(l.shape)\n",
    "print(rho_f.shape)\n",
    "print(rho_0.shape)\n",
    "print(gamma.shape)"
   ]
  },
  {
   "cell_type": "code",
   "execution_count": 10,
   "id": "47ccd421-6fff-47b7-a006-d2e826fa95a5",
   "metadata": {},
   "outputs": [
    {
     "name": "stdout",
     "output_type": "stream",
     "text": [
      "[0.7 0.7]\n",
      "###\n",
      "[0.2 0.2]\n",
      "###\n",
      "[2.30027577 2.98547092]\n",
      "###\n",
      "tf.Tensor(\n",
      "[[2.3002758 2.985471 ]\n",
      " [2.2856252 2.9660406]\n",
      " [2.2710767 2.946746 ]\n",
      " [2.25663   2.9275858]\n",
      " [2.2422838 2.9085596]\n",
      " [2.2280376 2.8896658]\n",
      " [2.213891  2.870904 ]\n",
      " [2.199843  2.8522727]\n",
      " [2.1858928 2.8337717]\n",
      " [2.1720402 2.8153996]], shape=(10, 2), dtype=float32)\n"
     ]
    }
   ],
   "source": [
    "print(l)\n",
    "print(\"###\")\n",
    "print(rho_f)\n",
    "print(\"###\")\n",
    "print(rho_0)\n",
    "print(\"###\")\n",
    "print(gamma)"
   ]
  },
  {
   "cell_type": "code",
   "execution_count": 6,
   "id": "0dd73791-b05b-405e-92e4-7758ab2681c7",
   "metadata": {},
   "outputs": [
    {
     "ename": "InvalidArgumentError",
     "evalue": "cannot compute Sub as input #1(zero-based) was expected to be a double tensor but is a float tensor [Op:Sub] name: ",
     "output_type": "error",
     "traceback": [
      "\u001b[1;31m---------------------------------------------------------------------------\u001b[0m",
      "\u001b[1;31mInvalidArgumentError\u001b[0m                      Traceback (most recent call last)",
      "Cell \u001b[1;32mIn[6], line 5\u001b[0m\n\u001b[0;32m      3\u001b[0m rho_f \u001b[38;5;241m=\u001b[39m tf\u001b[38;5;241m.\u001b[39mconstant([\u001b[38;5;241m0.2\u001b[39m, \u001b[38;5;241m0.2\u001b[39m], dtype\u001b[38;5;241m=\u001b[39mtf\u001b[38;5;241m.\u001b[39mfloat32, name\u001b[38;5;241m=\u001b[39m\u001b[38;5;124m'\u001b[39m\u001b[38;5;124mrho_f\u001b[39m\u001b[38;5;124m'\u001b[39m)\n\u001b[0;32m      4\u001b[0m rho_0 \u001b[38;5;241m=\u001b[39m tf\u001b[38;5;241m.\u001b[39mabs(state[:\u001b[38;5;241m2\u001b[39m] \u001b[38;5;241m-\u001b[39m state_d[\u001b[38;5;241m0\u001b[39m, :]) \u001b[38;5;241m+\u001b[39m ini_width\n\u001b[1;32m----> 5\u001b[0m gamma \u001b[38;5;241m=\u001b[39m (\u001b[43mrho_0\u001b[49m\u001b[43m \u001b[49m\u001b[38;5;241;43m-\u001b[39;49m\u001b[43m \u001b[49m\u001b[43mrho_f\u001b[49m) \u001b[38;5;241m*\u001b[39m tf\u001b[38;5;241m.\u001b[39mexp(\u001b[38;5;241m-\u001b[39ml \u001b[38;5;241m*\u001b[39m time_int \u001b[38;5;241m*\u001b[39m tf\u001b[38;5;241m.\u001b[39mrange(epi_len, dtype\u001b[38;5;241m=\u001b[39mtf\u001b[38;5;241m.\u001b[39mfloat32))\n",
      "File \u001b[1;32m~\\AppData\\Local\\Programs\\Python\\Python311\\Lib\\site-packages\\tensorflow\\python\\util\\traceback_utils.py:153\u001b[0m, in \u001b[0;36mfilter_traceback.<locals>.error_handler\u001b[1;34m(*args, **kwargs)\u001b[0m\n\u001b[0;32m    151\u001b[0m \u001b[38;5;28;01mexcept\u001b[39;00m \u001b[38;5;167;01mException\u001b[39;00m \u001b[38;5;28;01mas\u001b[39;00m e:\n\u001b[0;32m    152\u001b[0m   filtered_tb \u001b[38;5;241m=\u001b[39m _process_traceback_frames(e\u001b[38;5;241m.\u001b[39m__traceback__)\n\u001b[1;32m--> 153\u001b[0m   \u001b[38;5;28;01mraise\u001b[39;00m e\u001b[38;5;241m.\u001b[39mwith_traceback(filtered_tb) \u001b[38;5;28;01mfrom\u001b[39;00m \u001b[38;5;28;01mNone\u001b[39;00m\n\u001b[0;32m    154\u001b[0m \u001b[38;5;28;01mfinally\u001b[39;00m:\n\u001b[0;32m    155\u001b[0m   \u001b[38;5;28;01mdel\u001b[39;00m filtered_tb\n",
      "File \u001b[1;32m~\\AppData\\Local\\Programs\\Python\\Python311\\Lib\\site-packages\\tensorflow\\python\\framework\\ops.py:5888\u001b[0m, in \u001b[0;36mraise_from_not_ok_status\u001b[1;34m(e, name)\u001b[0m\n\u001b[0;32m   5886\u001b[0m \u001b[38;5;28;01mdef\u001b[39;00m \u001b[38;5;21mraise_from_not_ok_status\u001b[39m(e, name) \u001b[38;5;241m-\u001b[39m\u001b[38;5;241m>\u001b[39m NoReturn:\n\u001b[0;32m   5887\u001b[0m   e\u001b[38;5;241m.\u001b[39mmessage \u001b[38;5;241m+\u001b[39m\u001b[38;5;241m=\u001b[39m (\u001b[38;5;124m\"\u001b[39m\u001b[38;5;124m name: \u001b[39m\u001b[38;5;124m\"\u001b[39m \u001b[38;5;241m+\u001b[39m \u001b[38;5;28mstr\u001b[39m(name \u001b[38;5;28;01mif\u001b[39;00m name \u001b[38;5;129;01mis\u001b[39;00m \u001b[38;5;129;01mnot\u001b[39;00m \u001b[38;5;28;01mNone\u001b[39;00m \u001b[38;5;28;01melse\u001b[39;00m \u001b[38;5;124m\"\u001b[39m\u001b[38;5;124m\"\u001b[39m))\n\u001b[1;32m-> 5888\u001b[0m   \u001b[38;5;28;01mraise\u001b[39;00m core\u001b[38;5;241m.\u001b[39m_status_to_exception(e) \u001b[38;5;28;01mfrom\u001b[39;00m \u001b[38;5;28;01mNone\u001b[39;00m\n",
      "\u001b[1;31mInvalidArgumentError\u001b[0m: cannot compute Sub as input #1(zero-based) was expected to be a double tensor but is a float tensor [Op:Sub] name: "
     ]
    }
   ],
   "source": [
    "import tensorflow as tf\n",
    "l = tf.constant([0.7, 0.7], dtype=tf.float32, name='l')\n",
    "rho_f = tf.constant([0.2, 0.2], dtype=tf.float32, name='rho_f')\n",
    "rho_0 = tf.abs(state[:2] - state_d[0, :]) + ini_width\n",
    "gamma = (rho_0 - rho_f) * tf.exp(-l * time_int * tf.range(epi_len, dtype=tf.float32))"
   ]
  },
  {
   "cell_type": "code",
   "execution_count": 6,
   "id": "6003abfd-1485-4e70-9f6b-5fda5296085d",
   "metadata": {},
   "outputs": [
    {
     "name": "stdout",
     "output_type": "stream",
     "text": [
      "(2,)\n",
      "(2,)\n",
      "(2,)\n"
     ]
    }
   ],
   "source": [
    "print(l.shape)\n",
    "print(rho_f.shape)\n",
    "print(rho_0.shape)\n",
    "print(gamma.shape)"
   ]
  },
  {
   "cell_type": "code",
   "execution_count": 7,
   "id": "c65a077a-4f33-41bf-b637-352467f718e1",
   "metadata": {},
   "outputs": [
    {
     "name": "stdout",
     "output_type": "stream",
     "text": [
      "tf.Tensor([0.7 0.7], shape=(2,), dtype=float32)\n",
      "####\n",
      "tf.Tensor([0.2 0.2], shape=(2,), dtype=float32)\n",
      "###\n",
      "tf.Tensor([2.30027577 2.98547092], shape=(2,), dtype=float64)\n"
     ]
    }
   ],
   "source": [
    "print(l)\n",
    "print(\"####\")\n",
    "print(rho_f)\n",
    "print(\"###\")\n",
    "print(rho_0)\n",
    "print(\"###\")\n",
    "print(gamma)"
   ]
  },
  {
   "cell_type": "code",
   "execution_count": null,
   "id": "b4f6de75-503b-47fc-929f-d90564fcc0b1",
   "metadata": {},
   "outputs": [],
   "source": []
  }
 ],
 "metadata": {
  "kernelspec": {
   "display_name": "Python 3 (ipykernel)",
   "language": "python",
   "name": "python3"
  },
  "language_info": {
   "codemirror_mode": {
    "name": "ipython",
    "version": 3
   },
   "file_extension": ".py",
   "mimetype": "text/x-python",
   "name": "python",
   "nbconvert_exporter": "python",
   "pygments_lexer": "ipython3",
   "version": "3.11.1"
  }
 },
 "nbformat": 4,
 "nbformat_minor": 5
}
