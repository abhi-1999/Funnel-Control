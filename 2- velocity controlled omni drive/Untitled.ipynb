{
 "cells": [
  {
   "cell_type": "code",
   "execution_count": 5,
   "id": "3f8aaa81-1c27-4071-9382-f27d295662d0",
   "metadata": {},
   "outputs": [],
   "source": [
    "import numpy as np\n",
    "import math\n",
    "import torch\n",
    "\n",
    "x = -3.19\n",
    "y = 3\n",
    "theta = 0\n",
    "state = torch.tensor([x,y,theta], dtype=torch.float32)\n",
    "epi_len = 10\n",
    "\n",
    "ep_t = 0\n",
    "time_int = 0.01\n",
    "\n",
    "ref_trajectory=[[-1.5+5.8*math.cos(0.24*time_int*t+1.5), 5.8*math.sin(0.24*t*time_int+1.5)] for t in range(epi_len)]\n",
    "state_d = torch.tensor(ref_trajectory)\n",
    "\n",
    "l = torch.tensor([0.7,0.7])\n",
    "ini_width = 0.2\n",
    "rho_f = torch.tensor([0.2,0.2])\n",
    "rho_0 = (torch.abs(torch.tensor([x, y]) - state_d[0, :]) + ini_width).clone().detach()\n",
    "\n",
    "gamma_np = [(rho_0 - rho_f)* torch.exp(-l*time_int*t) + rho_f for t in range(epi_len)]\n",
    "\n",
    "\n",
    "\n"
   ]
  },
  {
   "cell_type": "code",
   "execution_count": null,
   "id": "18174a76-126d-4052-9107-02dea632a8d2",
   "metadata": {},
   "outputs": [],
   "source": [
    "state_d\n"
   ]
  },
  {
   "cell_type": "code",
   "execution_count": null,
   "id": "01903766-63ae-486d-9de2-1c0f2356ff5e",
   "metadata": {},
   "outputs": [],
   "source": [
    "for _ in range(epi_len):\n",
    "    \n",
    "    "
   ]
  },
  {
   "cell_type": "code",
   "execution_count": 6,
   "id": "78a171a2-bc41-4544-8504-62758c54813d",
   "metadata": {},
   "outputs": [
    {
     "data": {
      "text/plain": [
       "[tensor([0.2000, 0.2000]),\n",
       " tensor([0.1853, 0.1805]),\n",
       " tensor([0.1706, 0.1610]),\n",
       " tensor([0.1559, 0.1415]),\n",
       " tensor([0.1412, 0.1220]),\n",
       " tensor([0.1265, 0.1025]),\n",
       " tensor([0.1118, 0.0830]),\n",
       " tensor([0.0971, 0.0635]),\n",
       " tensor([0.0824, 0.0440]),\n",
       " tensor([0.0677, 0.0245])]"
      ]
     },
     "execution_count": 6,
     "metadata": {},
     "output_type": "execute_result"
    }
   ],
   "source": [
    "gamma_np\n"
   ]
  },
  {
   "cell_type": "code",
   "execution_count": 2,
   "id": "ab4734f9-cc80-4e9c-92d3-20ae01311814",
   "metadata": {},
   "outputs": [],
   "source": [
    "x = -3.19\n",
    "y = 3\n",
    "theta = 0\n",
    "state = np.array([x,y,theta])\n",
    "\n",
    "#RL constants\n",
    "ep_t = 0\n",
    "\n",
    "time_int = 0.01\n",
    "# t2 = timestep*time_int\n",
    "#reference trajectory\n",
    "ref_trajectory=[[-1.5+5.8*math.cos(0.24*time_int*t+1.5), 5.8*math.sin(0.24*t*time_int+1.5)] for t in range(epi_len)]\n",
    "state_d = np.array(ref_trajectory)\n",
    "\n",
    "#Funnel for soft constraint currently values are according to paper\n",
    "l = np.array([0.7,0.7])\n",
    "ini_width = 0.2 #higher the value more is the initial funnel width\n",
    "rho_f = np.array([0.2,0.2])\n",
    "rho_0 = np.array(abs(np.array([x,y])- state_d[0,:]) + ini_width )\n",
    "gamma = np.array([(rho_0 - rho_f)*np.exp(-l*time_int*t) + rho_f for t in range(epi_len)])\n"
   ]
  },
  {
   "cell_type": "code",
   "execution_count": 4,
   "id": "b9f23ea7-2b24-46d4-aaf4-0a36c6f6448d",
   "metadata": {},
   "outputs": [
    {
     "data": {
      "text/plain": [
       "array([[2.30027577, 2.98547092],\n",
       "       [2.28562518, 2.96604071],\n",
       "       [2.27107678, 2.94674604],\n",
       "       [2.25662986, 2.92758595],\n",
       "       [2.24228373, 2.90855952],\n",
       "       [2.22803766, 2.88966581],\n",
       "       [2.21389097, 2.87090389],\n",
       "       [2.19984296, 2.85227285],\n",
       "       [2.18589294, 2.83377177],\n",
       "       [2.17204023, 2.81539974]])"
      ]
     },
     "execution_count": 4,
     "metadata": {},
     "output_type": "execute_result"
    }
   ],
   "source": [
    "gamma"
   ]
  },
  {
   "cell_type": "code",
   "execution_count": 3,
   "id": "24cc02ce-4859-482b-9d34-1219bc5e9977",
   "metadata": {},
   "outputs": [
    {
     "data": {
      "text/plain": [
       "tensor([[2.3003, 2.9855],\n",
       "        [2.2856, 2.9660],\n",
       "        [2.2711, 2.9467],\n",
       "        [2.2566, 2.9276],\n",
       "        [2.2423, 2.9086],\n",
       "        [2.2280, 2.8897],\n",
       "        [2.2139, 2.8709],\n",
       "        [2.1998, 2.8523],\n",
       "        [2.1859, 2.8338],\n",
       "        [2.1720, 2.8154]], dtype=torch.float64)"
      ]
     },
     "execution_count": 3,
     "metadata": {},
     "output_type": "execute_result"
    }
   ],
   "source": [
    "gamma_tensor = torch.tensor(gamma)\n",
    "gamma_tensor"
   ]
  },
  {
   "cell_type": "code",
   "execution_count": null,
   "id": "d0d8634a-6d37-4c16-a799-c8cb1b0c8085",
   "metadata": {},
   "outputs": [],
   "source": [
    "are_equal = np.array_equal(gamma, gamma_np)\n",
    "\n",
    "if are_equal:\n",
    "    print(\"yes\")\n",
    "else:\n",
    "    print(\"no\")"
   ]
  },
  {
   "cell_type": "code",
   "execution_count": null,
   "id": "c4d96faa-0014-4d12-8dc2-12baf0b40a69",
   "metadata": {},
   "outputs": [],
   "source": [
    "gamma_np"
   ]
  },
  {
   "cell_type": "code",
   "execution_count": null,
   "id": "0aeafc78-ef37-4e8a-89e3-74f489d7c571",
   "metadata": {},
   "outputs": [],
   "source": [
    "gamma"
   ]
  },
  {
   "cell_type": "code",
   "execution_count": null,
   "id": "75f67ea3-7050-4d8e-bb1b-84f8e8563126",
   "metadata": {},
   "outputs": [],
   "source": [
    "lb_soft = state_d - gamma\n",
    "ub_soft = state_d + gamma\n",
    "phi_ini_L = tf.constant([0.0, 0.0], dtype=tf.float32, name='phi_ini_L')\n",
    "phi_ini_U = tf.constant([0.0, 0.0], dtype=tf.float32, name='phi_ini_U')"
   ]
  },
  {
   "cell_type": "code",
   "execution_count": null,
   "id": "457ca99a-0f2a-44d2-bc15-54f9abfc866f",
   "metadata": {},
   "outputs": [],
   "source": [
    "print(l.shape)\n",
    "print(rho_f.shape)\n",
    "print(rho_0.shape)\n",
    "print(gamma.shape)"
   ]
  },
  {
   "cell_type": "code",
   "execution_count": null,
   "id": "47ccd421-6fff-47b7-a006-d2e826fa95a5",
   "metadata": {},
   "outputs": [],
   "source": [
    "print(l)\n",
    "print(\"###\")\n",
    "print(rho_f)\n",
    "print(\"###\")\n",
    "print(rho_0)\n",
    "print(\"###\")\n",
    "print(gamma)"
   ]
  },
  {
   "cell_type": "code",
   "execution_count": null,
   "id": "0dd73791-b05b-405e-92e4-7758ab2681c7",
   "metadata": {},
   "outputs": [],
   "source": [
    "import tensorflow as tf\n",
    "l = tf.constant([0.7, 0.7], dtype=tf.float32, name='l')\n",
    "rho_f = tf.constant([0.2, 0.2], dtype=tf.float32, name='rho_f')\n",
    "rho_0 = tf.abs(state[:2] - state_d[0, :]) + ini_width\n",
    "gamma = (rho_0 - rho_f) * tf.exp(-l * time_int * tf.range(epi_len, dtype=tf.float32))"
   ]
  },
  {
   "cell_type": "code",
   "execution_count": null,
   "id": "6003abfd-1485-4e70-9f6b-5fda5296085d",
   "metadata": {},
   "outputs": [],
   "source": [
    "print(l.shape)\n",
    "print(rho_f.shape)\n",
    "print(rho_0.shape)\n",
    "print(gamma.shape)"
   ]
  },
  {
   "cell_type": "code",
   "execution_count": null,
   "id": "c65a077a-4f33-41bf-b637-352467f718e1",
   "metadata": {},
   "outputs": [],
   "source": [
    "print(l)\n",
    "print(\"####\")\n",
    "print(rho_f)\n",
    "print(\"###\")\n",
    "print(rho_0)\n",
    "print(\"###\")\n",
    "print(gamma)"
   ]
  },
  {
   "cell_type": "code",
   "execution_count": null,
   "id": "b4f6de75-503b-47fc-929f-d90564fcc0b1",
   "metadata": {},
   "outputs": [],
   "source": [
    "\n",
    "self.action_space = Box(low = np.array([-1,-1,-1]), #lower bounds for vel_x,vel_y,omega\n",
    "                                     high=np.array([1,1,1])) #upper bounds for vel_x,vel_y,omega\n",
    "\n",
    "self.observation_space = Box(low = np.array([-6.58,-4.63,-math.pi]), #lower bounds of state\n",
    "                                      high=np.array([6.58,4.63,math.pi]),dtype=np.float64) #upper bounds of state\n",
    "self.epi_len = 100\n",
    "\n",
    "\n",
    "        #states\n",
    "        self.x = -3.19\n",
    "        self.y = 3\n",
    "        self.theta = 0\n",
    "        self.state = torch.tensor([self.x, self.y, self.theta], dtype=torch.float64)\n",
    "\n",
    "        # RL constants\n",
    "        self.ep_t = 0\n",
    "        self.time_int = 0.01\n",
    "\n",
    "        # Reference trajectory\n",
    "        ref_trajectory = [[-1.5 + 5.8 * math.cos(0.24 * self.time_int * t + 1.5),\n",
    "                           5.8 * math.sin(0.24 * t * self.time_int + 1.5)] for t in range(self.epi_len)]\n",
    "        self.state_d = torch.tensor(ref_trajectory, dtype=torch.float64)\n",
    "\n",
    "        # Funnel for soft constraint currently values are according to paper\n",
    "        l = torch.tensor([0.7, 0.7])\n",
    "        ini_width = 0.2  # higher the value more is the initial funnel width\n",
    "        rho_f = torch.tensor([0.2, 0.2])\n",
    "        rho_0 = torch.abs(torch.tensor([self.x, self.y]) - self.state_d[0, :]) + ini_width\n",
    "        self.x"
   ]
  },
  {
   "cell_type": "code",
   "execution_count": null,
   "id": "8c95445d-8149-4611-abe6-7e9f1199e4e1",
   "metadata": {},
   "outputs": [],
   "source": []
  }
 ],
 "metadata": {
  "kernelspec": {
   "display_name": "Python 3 (ipykernel)",
   "language": "python",
   "name": "python3"
  },
  "language_info": {
   "codemirror_mode": {
    "name": "ipython",
    "version": 3
   },
   "file_extension": ".py",
   "mimetype": "text/x-python",
   "name": "python",
   "nbconvert_exporter": "python",
   "pygments_lexer": "ipython3",
   "version": "3.10.12"
  }
 },
 "nbformat": 4,
 "nbformat_minor": 5
}
